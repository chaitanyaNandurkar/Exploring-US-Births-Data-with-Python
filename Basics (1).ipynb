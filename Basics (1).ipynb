{
 "cells": [
  {
   "cell_type": "code",
   "execution_count": 1,
   "metadata": {
    "collapsed": false
   },
   "outputs": [
    {
     "name": "stdout",
     "output_type": "stream",
     "text": [
      "['year,month,date_of_month,day_of_week,births', '1994,1,1,6,8096', '1994,1,2,7,7772', '1994,1,3,1,10142', '1994,1,4,2,11248', '1994,1,5,3,11053', '1994,1,6,4,11406', '1994,1,7,5,11251', '1994,1,8,6,8653', '1994,1,9,7,7910']\n"
     ]
    }
   ],
   "source": [
    "#Introduction to the dataset\n",
    "f = open(\"US_births_1994-2003_CDC_NCHS.csv\",\"r\")\n",
    "x = f.read()\n",
    "data = x.split(\"\\n\")\n",
    "print(data[0:10])"
   ]
  },
  {
   "cell_type": "code",
   "execution_count": 7,
   "metadata": {
    "collapsed": false
   },
   "outputs": [],
   "source": [
    "#Converting data into a list of lists\n",
    "def read_csv(input_string):\n",
    "    text = open(input_string,\"r\")\n",
    "    file = text.read()\n",
    "    data = file.split(\"\\n\")\n",
    "    string_list = data[1:]\n",
    "    final_list = []\n",
    "    \n",
    "    for each in string_list:\n",
    "        string_fields = each.split(\",\")\n",
    "        int_fields = []\n",
    "        for values in string_fields:\n",
    "            int_fields.append(int(values))\n",
    "        final_list.append(int_fields)\n",
    "    return final_list\n",
    "cdc_list = read_csv(\"US_births_1994-2003_CDC_NCHS.csv\")\n"
   ]
  },
  {
   "cell_type": "code",
   "execution_count": 8,
   "metadata": {
    "collapsed": false
   },
   "outputs": [
    {
     "data": {
      "text/plain": [
       "[[1994, 1, 1, 6, 8096]]"
      ]
     },
     "execution_count": 8,
     "metadata": {},
     "output_type": "execute_result"
    }
   ],
   "source": [
    "cdc_list[0:10]\n"
   ]
  },
  {
   "cell_type": "code",
   "execution_count": 17,
   "metadata": {
    "collapsed": false
   },
   "outputs": [
    {
     "data": {
      "text/plain": [
       "{1: 8096}"
      ]
     },
     "execution_count": 17,
     "metadata": {},
     "output_type": "execute_result"
    }
   ],
   "source": [
    "# Calculating Number Of Births Each Month\n",
    "def month_births(content):\n",
    "    births_per_month = {}\n",
    "    for each in content:\n",
    "        month = each[1]\n",
    "        births = each[4]\n",
    "        if month in births_per_month:\n",
    "            births_per_month[month] = births_per_month[month] + int(births)\n",
    "        else:\n",
    "            births_per_month[month] = int(births)\n",
    "    return births_per_month\n",
    "cdc_month_births = month_births(cdc_list)\n"
   ]
  },
  {
   "cell_type": "code",
   "execution_count": 4,
   "metadata": {
    "collapsed": true
   },
   "outputs": [],
   "source": [
    "cdc_month_births"
   ]
  },
  {
   "cell_type": "code",
   "execution_count": 23,
   "metadata": {
    "collapsed": false
   },
   "outputs": [
    {
     "data": {
      "text/plain": [
       "{6: 8096}"
      ]
     },
     "execution_count": 23,
     "metadata": {},
     "output_type": "execute_result"
    }
   ],
   "source": [
    "# Calculating Number of Births Each Day of Week\n",
    "def dow_births(data):\n",
    "    births_per_week = {}\n",
    "    for each in data:\n",
    "        day = each[3]\n",
    "        births = each[4]\n",
    "        if day in births_per_week:\n",
    "            births_per_week[day] = births_per_week[day] + births\n",
    "        else:\n",
    "            births_per_week[day] = births\n",
    "    return births_per_week\n",
    "cdc_day_births = dow_births(cdc_list)"
   ]
  },
  {
   "cell_type": "code",
   "execution_count": 5,
   "metadata": {
    "collapsed": false
   },
   "outputs": [],
   "source": [
    "cdc_day_births\n",
    "    "
   ]
  },
  {
   "cell_type": "code",
   "execution_count": null,
   "metadata": {
    "collapsed": true
   },
   "outputs": [],
   "source": [
    "#Creating a More General Function\n",
    "def calc_counts(data,column):\n",
    "    counts_per_period = {}\n",
    "    for rows in data:\n",
    "        column_value = rows[column]\n",
    "        births = rows[4]\n",
    "        if column_value in counts_per_period:\n",
    "            counts_per_period[column_value] = counts_per_period[column_value] + births\n",
    "        else:\n",
    "            counts_per_period[column_value] = births\n",
    "    return counts_per_period\n",
    "\n",
    "cdc_year_births = calc_counts(cdc_list, 0)\n",
    "cdc_month_births = calc_counts(cdc_list, 1)\n",
    "cdc_dom_births = calc_counts(cdc_list, 2)\n",
    "cdc_dow_births = calc_counts(cdc_list, 3)"
   ]
  }
 ],
 "metadata": {
  "anaconda-cloud": {},
  "kernelspec": {
   "display_name": "Python 3",
   "language": "python",
   "name": "python3"
  },
  "language_info": {
   "codemirror_mode": {
    "name": "ipython",
    "version": 3
   },
   "file_extension": ".py",
   "mimetype": "text/x-python",
   "name": "python",
   "nbconvert_exporter": "python",
   "pygments_lexer": "ipython3",
   "version": "3.4.3"
  }
 },
 "nbformat": 4,
 "nbformat_minor": 1
}
